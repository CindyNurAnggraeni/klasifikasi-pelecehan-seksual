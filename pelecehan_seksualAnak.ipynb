{
 "cells": [
  {
   "attachments": {},
   "cell_type": "markdown",
   "metadata": {},
   "source": [
    "# CRISP DM"
   ]
  },
  {
   "cell_type": "code",
   "execution_count": null,
   "metadata": {},
   "outputs": [],
   "source": [
    "Bussines Understanding\n",
    "\n",
    "- Problem\n",
    "Pelecehan seksual anak telah menjadi perhatian utama dalam beberapa tahun terakhir. Untuk\n",
    "melindungi anak-anak dari pelecehan ini, pertama-tama kita harus mencoba mengidentifikasi apa\n",
    "faktor-faktor potensialnya. Dataset ini memprediksi tingkat pengetahuan seseorang tentang pelecehan\n",
    "seksual anak.\n",
    "\n",
    "- Tujuan\n",
    "Dataset ini diambil dari Kaggle (https://www.kaggle.com/datasets/sahasourav17/child-sexual-abuse-awareness-knowledge-level)\n",
    "bertujuan untuk menganalisis, mengklasifikasi, dan mengedukasi seseorang tentang pelecehan seksual\n",
    "pada anak. Dengan model ini diharapkan dapat membantu mengedukasi tentang pentingnya memahami\n",
    "pelecehan seksual pada anak agar tidak banyak lagi yang menjadi korban pelecehan."
   ]
  },
  {
   "cell_type": "code",
   "execution_count": null,
   "metadata": {},
   "outputs": [],
   "source": [
    "Data Understanding\n",
    "\n",
    "Berikut atribut-atribut dari dataset ini :\n",
    "\n",
    "0. Children_safe = Anak-anak aman di antara anggota keluarga seperti kakek-nenek, paman, bibi, sepupu\n",
    "1. Children_are_bused = Orang asing melakukan pelecehan di masyarakat kita terutama pada anak-anak\n",
    "2. Male_children_dont_need_sexual_abuse = Anak laki-laki tidak membutuhkan pengetahuan pencegahan pelecehan seksual\n",
    "3. Teaching_sexual_abuse = Mengajarkan pencegahan pelecehan seksual di sekolah itu tidak perlu.\n",
    "                            Ini akan membuat anak-anak penasaran tentang seks\n",
    "4. child_grooming = Tahukah Anda apa itu child grooming\n",
    "5. signs_your_child_has_been_abused = Apakah Anda tahu tanda-tanda apa yang harus dicari untuk\n",
    "                                        mengidentifikasi apakah anak Anda telah dilecehkan\n",
    "6. need_counseling_for _recovering = Apakah menurut Anda anak-anak membutuhkan konseling pasca pelecehan untuk pemulihan\n",
    "7. take_legal_action = Apakah Anda pikir Anda harus mengambil tindakan hukum terhadap pelaku kekerasan anak Anda\n",
    "8. Knowledge_Level = Tingkat pemahaman seseorang tentang pelecehan seksual pada anak\n",
    "\n",
    "Child grooming adalah ketika seseorang berusaha membangun kedekatan dengan anak di bawah umur yang\n",
    "bukan darah dagingnya. Tujuannya agar ia bisa melakukan pelecehan seksual terhadap anak tersebut."
   ]
  },
  {
   "cell_type": "code",
   "execution_count": null,
   "metadata": {},
   "outputs": [],
   "source": [
    "Data Preparation\n",
    "\n",
    "Yang menjadi fitur dalam dataset ini adalah:\n",
    "1. Children_safe\n",
    "2. Children_are_bused\n",
    "3. Male_children_dont_need_sexual_abuse\n",
    "4. Teaching_sexual_abuse\n",
    "5. child_grooming\n",
    "6. signs_your_child_has_been_abused\n",
    "7. need_counseling_for _recovering\n",
    "8. take_legal_action\n",
    "\n",
    "Sedangkan, yang menjadi target adalah Knowledge_Level"
   ]
  },
  {
   "attachments": {},
   "cell_type": "markdown",
   "metadata": {},
   "source": [
    "# Import library"
   ]
  },
  {
   "cell_type": "code",
   "execution_count": 1,
   "metadata": {},
   "outputs": [],
   "source": [
    "import numpy as np\n",
    "import pandas as pd\n",
    "from sklearn.model_selection import  train_test_split\n",
    "from sklearn.metrics import accuracy_score\n",
    "import matplotlib.pyplot as plt"
   ]
  },
  {
   "cell_type": "code",
   "execution_count": 2,
   "metadata": {},
   "outputs": [],
   "source": [
    "df = pd.read_csv(\"CSA-Data.csv\")"
   ]
  },
  {
   "cell_type": "code",
   "execution_count": 3,
   "metadata": {},
   "outputs": [
    {
     "data": {
      "text/html": [
       "<div>\n",
       "<style scoped>\n",
       "    .dataframe tbody tr th:only-of-type {\n",
       "        vertical-align: middle;\n",
       "    }\n",
       "\n",
       "    .dataframe tbody tr th {\n",
       "        vertical-align: top;\n",
       "    }\n",
       "\n",
       "    .dataframe thead th {\n",
       "        text-align: right;\n",
       "    }\n",
       "</style>\n",
       "<table border=\"1\" class=\"dataframe\">\n",
       "  <thead>\n",
       "    <tr style=\"text-align: right;\">\n",
       "      <th></th>\n",
       "      <th>Children_safe</th>\n",
       "      <th>Children_are_bused</th>\n",
       "      <th>Male_children_dont_need_sexual_abuse</th>\n",
       "      <th>Teaching_sexual_abuse</th>\n",
       "      <th>child_grooming</th>\n",
       "      <th>signs_your_child_has_been_abused</th>\n",
       "      <th>need_counseling_for_recovering</th>\n",
       "      <th>take_legal_action</th>\n",
       "      <th>Knowledge_Level</th>\n",
       "    </tr>\n",
       "  </thead>\n",
       "  <tbody>\n",
       "    <tr>\n",
       "      <th>0</th>\n",
       "      <td>Agree</td>\n",
       "      <td>Agree</td>\n",
       "      <td>Disagree</td>\n",
       "      <td>Agree</td>\n",
       "      <td>No</td>\n",
       "      <td>No</td>\n",
       "      <td>No</td>\n",
       "      <td>Yes</td>\n",
       "      <td>Beginner</td>\n",
       "    </tr>\n",
       "    <tr>\n",
       "      <th>1</th>\n",
       "      <td>Agree</td>\n",
       "      <td>Agree</td>\n",
       "      <td>Disagree</td>\n",
       "      <td>Disagree</td>\n",
       "      <td>No</td>\n",
       "      <td>No</td>\n",
       "      <td>Yes</td>\n",
       "      <td>Yes</td>\n",
       "      <td>Beginner</td>\n",
       "    </tr>\n",
       "    <tr>\n",
       "      <th>2</th>\n",
       "      <td>Disagree</td>\n",
       "      <td>Disagree</td>\n",
       "      <td>Disagree</td>\n",
       "      <td>Disagree</td>\n",
       "      <td>No</td>\n",
       "      <td>No</td>\n",
       "      <td>Yes</td>\n",
       "      <td>Yes</td>\n",
       "      <td>Beginner</td>\n",
       "    </tr>\n",
       "    <tr>\n",
       "      <th>3</th>\n",
       "      <td>Agree</td>\n",
       "      <td>Agree</td>\n",
       "      <td>Disagree</td>\n",
       "      <td>Disagree</td>\n",
       "      <td>No</td>\n",
       "      <td>No</td>\n",
       "      <td>Yes</td>\n",
       "      <td>Yes</td>\n",
       "      <td>Beginner</td>\n",
       "    </tr>\n",
       "    <tr>\n",
       "      <th>4</th>\n",
       "      <td>Agree</td>\n",
       "      <td>Disagree</td>\n",
       "      <td>Disagree</td>\n",
       "      <td>Disagree</td>\n",
       "      <td>Yes</td>\n",
       "      <td>Yes</td>\n",
       "      <td>Yes</td>\n",
       "      <td>Yes</td>\n",
       "      <td>Intermediate</td>\n",
       "    </tr>\n",
       "  </tbody>\n",
       "</table>\n",
       "</div>"
      ],
      "text/plain": [
       "  Children_safe Children_are_bused Male_children_dont_need_sexual_abuse  \\\n",
       "0         Agree              Agree                             Disagree   \n",
       "1         Agree              Agree                             Disagree   \n",
       "2      Disagree           Disagree                             Disagree   \n",
       "3         Agree              Agree                             Disagree   \n",
       "4         Agree           Disagree                             Disagree   \n",
       "\n",
       "  Teaching_sexual_abuse child_grooming signs_your_child_has_been_abused  \\\n",
       "0                 Agree             No                               No   \n",
       "1              Disagree             No                               No   \n",
       "2              Disagree             No                               No   \n",
       "3              Disagree             No                               No   \n",
       "4              Disagree            Yes                              Yes   \n",
       "\n",
       "  need_counseling_for_recovering take_legal_action Knowledge_Level  \n",
       "0                             No               Yes        Beginner  \n",
       "1                            Yes               Yes        Beginner  \n",
       "2                            Yes               Yes        Beginner  \n",
       "3                            Yes               Yes        Beginner  \n",
       "4                            Yes               Yes    Intermediate  "
      ]
     },
     "execution_count": 3,
     "metadata": {},
     "output_type": "execute_result"
    }
   ],
   "source": [
    "df.head()"
   ]
  },
  {
   "cell_type": "code",
   "execution_count": 4,
   "metadata": {},
   "outputs": [
    {
     "name": "stdout",
     "output_type": "stream",
     "text": [
      "<class 'pandas.core.frame.DataFrame'>\n",
      "RangeIndex: 3002 entries, 0 to 3001\n",
      "Data columns (total 9 columns):\n",
      " #   Column                                Non-Null Count  Dtype \n",
      "---  ------                                --------------  ----- \n",
      " 0   Children_safe                         3002 non-null   object\n",
      " 1   Children_are_bused                    3002 non-null   object\n",
      " 2   Male_children_dont_need_sexual_abuse  3002 non-null   object\n",
      " 3   Teaching_sexual_abuse                 3002 non-null   object\n",
      " 4   child_grooming                        3002 non-null   object\n",
      " 5   signs_your_child_has_been_abused      3002 non-null   object\n",
      " 6   need_counseling_for_recovering        3002 non-null   object\n",
      " 7   take_legal_action                     3002 non-null   object\n",
      " 8   Knowledge_Level                       3002 non-null   object\n",
      "dtypes: object(9)\n",
      "memory usage: 211.2+ KB\n"
     ]
    }
   ],
   "source": [
    "df.info()"
   ]
  },
  {
   "attachments": {},
   "cell_type": "markdown",
   "metadata": {},
   "source": [
    "# Transformasi Data"
   ]
  },
  {
   "cell_type": "code",
   "execution_count": 5,
   "metadata": {},
   "outputs": [],
   "source": [
    "# memisahkan numerik dan kategori\n",
    "numerik = []\n",
    "kategori = []\n",
    "\n",
    "for col in df.columns:\n",
    "    if df[col].dtype == 'int64':\n",
    "        numerik.append(col)\n",
    "    else:\n",
    "        kategori.append(col)\n",
    "\n",
    "for col in df.columns:\n",
    "    if col in numerik:\n",
    "        df[col].fillna(df[col].median(), inplace=True)\n",
    "    else:\n",
    "        df[col].fillna(df[col].mode()[0], inplace=True)"
   ]
  },
  {
   "cell_type": "code",
   "execution_count": 6,
   "metadata": {},
   "outputs": [
    {
     "data": {
      "text/plain": [
       "[]"
      ]
     },
     "execution_count": 6,
     "metadata": {},
     "output_type": "execute_result"
    }
   ],
   "source": [
    "numerik"
   ]
  },
  {
   "cell_type": "code",
   "execution_count": 7,
   "metadata": {},
   "outputs": [
    {
     "data": {
      "text/plain": [
       "['Children_safe',\n",
       " 'Children_are_bused',\n",
       " 'Male_children_dont_need_sexual_abuse',\n",
       " 'Teaching_sexual_abuse',\n",
       " 'child_grooming',\n",
       " 'signs_your_child_has_been_abused',\n",
       " 'need_counseling_for_recovering',\n",
       " 'take_legal_action',\n",
       " 'Knowledge_Level']"
      ]
     },
     "execution_count": 7,
     "metadata": {},
     "output_type": "execute_result"
    }
   ],
   "source": [
    "kategori"
   ]
  },
  {
   "cell_type": "code",
   "execution_count": 8,
   "metadata": {},
   "outputs": [],
   "source": [
    "from sklearn.preprocessing import LabelEncoder\n",
    "\n",
    "le = LabelEncoder()\n",
    "for col in kategori:\n",
    "    df[col] = le.fit_transform(df[col])"
   ]
  },
  {
   "cell_type": "code",
   "execution_count": 9,
   "metadata": {},
   "outputs": [
    {
     "data": {
      "text/html": [
       "<div>\n",
       "<style scoped>\n",
       "    .dataframe tbody tr th:only-of-type {\n",
       "        vertical-align: middle;\n",
       "    }\n",
       "\n",
       "    .dataframe tbody tr th {\n",
       "        vertical-align: top;\n",
       "    }\n",
       "\n",
       "    .dataframe thead th {\n",
       "        text-align: right;\n",
       "    }\n",
       "</style>\n",
       "<table border=\"1\" class=\"dataframe\">\n",
       "  <thead>\n",
       "    <tr style=\"text-align: right;\">\n",
       "      <th></th>\n",
       "      <th>Children_safe</th>\n",
       "      <th>Children_are_bused</th>\n",
       "      <th>Male_children_dont_need_sexual_abuse</th>\n",
       "      <th>Teaching_sexual_abuse</th>\n",
       "      <th>child_grooming</th>\n",
       "      <th>signs_your_child_has_been_abused</th>\n",
       "      <th>need_counseling_for_recovering</th>\n",
       "      <th>take_legal_action</th>\n",
       "      <th>Knowledge_Level</th>\n",
       "    </tr>\n",
       "  </thead>\n",
       "  <tbody>\n",
       "    <tr>\n",
       "      <th>0</th>\n",
       "      <td>0</td>\n",
       "      <td>0</td>\n",
       "      <td>1</td>\n",
       "      <td>0</td>\n",
       "      <td>0</td>\n",
       "      <td>0</td>\n",
       "      <td>0</td>\n",
       "      <td>1</td>\n",
       "      <td>0</td>\n",
       "    </tr>\n",
       "    <tr>\n",
       "      <th>1</th>\n",
       "      <td>0</td>\n",
       "      <td>0</td>\n",
       "      <td>1</td>\n",
       "      <td>1</td>\n",
       "      <td>0</td>\n",
       "      <td>0</td>\n",
       "      <td>1</td>\n",
       "      <td>1</td>\n",
       "      <td>0</td>\n",
       "    </tr>\n",
       "    <tr>\n",
       "      <th>2</th>\n",
       "      <td>1</td>\n",
       "      <td>1</td>\n",
       "      <td>1</td>\n",
       "      <td>1</td>\n",
       "      <td>0</td>\n",
       "      <td>0</td>\n",
       "      <td>1</td>\n",
       "      <td>1</td>\n",
       "      <td>0</td>\n",
       "    </tr>\n",
       "    <tr>\n",
       "      <th>3</th>\n",
       "      <td>0</td>\n",
       "      <td>0</td>\n",
       "      <td>1</td>\n",
       "      <td>1</td>\n",
       "      <td>0</td>\n",
       "      <td>0</td>\n",
       "      <td>1</td>\n",
       "      <td>1</td>\n",
       "      <td>0</td>\n",
       "    </tr>\n",
       "    <tr>\n",
       "      <th>4</th>\n",
       "      <td>0</td>\n",
       "      <td>1</td>\n",
       "      <td>1</td>\n",
       "      <td>1</td>\n",
       "      <td>1</td>\n",
       "      <td>1</td>\n",
       "      <td>1</td>\n",
       "      <td>1</td>\n",
       "      <td>1</td>\n",
       "    </tr>\n",
       "  </tbody>\n",
       "</table>\n",
       "</div>"
      ],
      "text/plain": [
       "   Children_safe  Children_are_bused  Male_children_dont_need_sexual_abuse  \\\n",
       "0              0                   0                                     1   \n",
       "1              0                   0                                     1   \n",
       "2              1                   1                                     1   \n",
       "3              0                   0                                     1   \n",
       "4              0                   1                                     1   \n",
       "\n",
       "   Teaching_sexual_abuse  child_grooming  signs_your_child_has_been_abused  \\\n",
       "0                      0               0                                 0   \n",
       "1                      1               0                                 0   \n",
       "2                      1               0                                 0   \n",
       "3                      1               0                                 0   \n",
       "4                      1               1                                 1   \n",
       "\n",
       "   need_counseling_for_recovering  take_legal_action  Knowledge_Level  \n",
       "0                               0                  1                0  \n",
       "1                               1                  1                0  \n",
       "2                               1                  1                0  \n",
       "3                               1                  1                0  \n",
       "4                               1                  1                1  "
      ]
     },
     "execution_count": 9,
     "metadata": {},
     "output_type": "execute_result"
    }
   ],
   "source": [
    "df.head()"
   ]
  },
  {
   "cell_type": "code",
   "execution_count": 10,
   "metadata": {},
   "outputs": [],
   "source": [
    "df.to_csv('child.csv')"
   ]
  },
  {
   "attachments": {},
   "cell_type": "markdown",
   "metadata": {},
   "source": [
    "# Visualisasi Data"
   ]
  },
  {
   "cell_type": "code",
   "execution_count": 11,
   "metadata": {},
   "outputs": [
    {
     "data": {
      "text/plain": [
       "0    1711\n",
       "1    1291\n",
       "Name: Knowledge_Level, dtype: int64"
      ]
     },
     "execution_count": 11,
     "metadata": {},
     "output_type": "execute_result"
    },
    {
     "data": {
      "image/png": "[encoded data removed]",
      "text/plain": [
       "<Figure size 432x288 with 1 Axes>"
      ]
     },
     "metadata": {
      "needs_background": "light"
     },
     "output_type": "display_data"
    }
   ],
   "source": [
    "import seaborn as sns\n",
    "\n",
    "sns.countplot(x = \"Knowledge_Level\", data = df)\n",
    "df.loc[:,\"Knowledge_Level\"].value_counts()"
   ]
  },
  {
   "cell_type": "code",
   "execution_count": 12,
   "metadata": {},
   "outputs": [
    {
     "data": {
      "image/png": "[encoded data removed]",
      "text/plain": [
       "<Figure size 720x576 with 1 Axes>"
      ]
     },
     "metadata": {},
     "output_type": "display_data"
    }
   ],
   "source": [
    "pie, ax = plt.subplots(figsize=[10,8])\n",
    "labels = [0, 1]\n",
    "colors = ['yellow', 'green']\n",
    "plt.pie(x = df['Knowledge_Level'].value_counts(), autopct='%.2f%%', explode=[0.02]*2, labels=labels, pctdistance=0.5, textprops={'fontsize': 14}, colors = colors)\n",
    "plt.title('Knowledge Level')\n",
    "plt.show()"
   ]
  },
  {
   "attachments": {},
   "cell_type": "markdown",
   "metadata": {},
   "source": [
    "# Split data"
   ]
  },
  {
   "cell_type": "code",
   "execution_count": 13,
   "metadata": {},
   "outputs": [],
   "source": [
    "X = df.drop(columns=['Knowledge_Level'], axis=1)\n",
    "Y = df['Knowledge_Level']"
   ]
  },
  {
   "cell_type": "code",
   "execution_count": 14,
   "metadata": {},
   "outputs": [],
   "source": [
    "x_train, x_test, y_train, y_test = train_test_split(X, Y, test_size=0.2, stratify=Y, random_state=2)"
   ]
  },
  {
   "cell_type": "code",
   "execution_count": 15,
   "metadata": {},
   "outputs": [
    {
     "name": "stdout",
     "output_type": "stream",
     "text": [
      "(3002, 8) (2401, 8) (601, 8)\n"
     ]
    }
   ],
   "source": [
    "print(X.shape, x_train.shape, x_test.shape)"
   ]
  },
  {
   "attachments": {},
   "cell_type": "markdown",
   "metadata": {},
   "source": [
    "# Modeling"
   ]
  },
  {
   "attachments": {},
   "cell_type": "markdown",
   "metadata": {},
   "source": [
    "### Membuat model training"
   ]
  },
  {
   "cell_type": "code",
   "execution_count": 16,
   "metadata": {},
   "outputs": [],
   "source": [
    "from sklearn.neighbors import KNeighborsClassifier\n",
    "knn = KNeighborsClassifier(n_neighbors=7)"
   ]
  },
  {
   "cell_type": "code",
   "execution_count": 17,
   "metadata": {},
   "outputs": [],
   "source": [
    "model = knn.fit(x_train, y_train)"
   ]
  },
  {
   "attachments": {},
   "cell_type": "markdown",
   "metadata": {},
   "source": [
    "# Evaluation"
   ]
  },
  {
   "attachments": {},
   "cell_type": "markdown",
   "metadata": {},
   "source": [
    "### Evaluasi model"
   ]
  },
  {
   "cell_type": "code",
   "execution_count": 18,
   "metadata": {},
   "outputs": [],
   "source": [
    "x_train_predict = model.predict(x_train)\n",
    "training_data_accuracy = accuracy_score(x_train_predict, y_train)"
   ]
  },
  {
   "cell_type": "code",
   "execution_count": 19,
   "metadata": {},
   "outputs": [
    {
     "name": "stdout",
     "output_type": "stream",
     "text": [
      "Akurasi data training :  0.9237817576009996\n"
     ]
    }
   ],
   "source": [
    "print('Akurasi data training : ', training_data_accuracy)"
   ]
  },
  {
   "cell_type": "code",
   "execution_count": 20,
   "metadata": {},
   "outputs": [],
   "source": [
    "x_test_predict = model.predict(x_test)\n",
    "test_data_accuracy = accuracy_score(x_test_predict, y_test)"
   ]
  },
  {
   "cell_type": "code",
   "execution_count": 21,
   "metadata": {},
   "outputs": [
    {
     "name": "stdout",
     "output_type": "stream",
     "text": [
      "Akurasi data testing :  0.9151414309484193\n"
     ]
    }
   ],
   "source": [
    "print('Akurasi data testing : ', test_data_accuracy)"
   ]
  },
  {
   "attachments": {},
   "cell_type": "markdown",
   "metadata": {},
   "source": [
    "# Model Prediksi"
   ]
  },
  {
   "cell_type": "code",
   "execution_count": 22,
   "metadata": {},
   "outputs": [
    {
     "name": "stdout",
     "output_type": "stream",
     "text": [
      "[1]\n",
      "Sudah Memahami Tentang Kekerasan Seksual Pada Anak\n"
     ]
    },
    {
     "name": "stderr",
     "output_type": "stream",
     "text": [
      "C:\\Users\\USER\\AppData\\Local\\Packages\\PythonSoftwareFoundation.Python.3.7_qbz5n2kfra8p0\\LocalCache\\local-packages\\Python37\\site-packages\\sklearn\\base.py:451: UserWarning: X does not have valid feature names, but KNeighborsClassifier was fitted with feature names\n",
      "  \"X does not have valid feature names, but\"\n"
     ]
    }
   ],
   "source": [
    "input_data = (1,1,0,1,0,1,0,1)\n",
    "input_data_numpy = np.asarray(input_data)\n",
    "data_reshaped = input_data_numpy.reshape(1, -1)\n",
    "prediksi = model.predict(data_reshaped)\n",
    "print(prediksi)\n",
    "\n",
    "if (prediksi[0] == 0):\n",
    "    print('Mulai Memahami Tentang Kekerasan Seksual Pada Anak')\n",
    "else:\n",
    "    print('Sudah Memahami Tentang Kekerasan Seksual Pada Anak')"
   ]
  },
  {
   "attachments": {},
   "cell_type": "markdown",
   "metadata": {},
   "source": [
    "# Deployment"
   ]
  },
  {
   "attachments": {},
   "cell_type": "markdown",
   "metadata": {},
   "source": [
    "### Save Model"
   ]
  },
  {
   "cell_type": "code",
   "execution_count": 23,
   "metadata": {},
   "outputs": [],
   "source": [
    "import pickle\n",
    "\n",
    "filename = 'child_sexual.sav'\n",
    "pickle.dump(model, open(filename, 'wb'))"
   ]
  }
 ],
 "metadata": {
  "kernelspec": {
   "display_name": "Python 3",
   "language": "python",
   "name": "python3"
  },
  "language_info": {
   "codemirror_mode": {
    "name": "ipython",
    "version": 3
   },
   "file_extension": ".py",
   "mimetype": "text/x-python",
   "name": "python",
   "nbconvert_exporter": "python",
   "pygments_lexer": "ipython3",
   "version": "3.7.9"
  },
  "orig_nbformat": 4
 },
 "nbformat": 4,
 "nbformat_minor": 2
}
